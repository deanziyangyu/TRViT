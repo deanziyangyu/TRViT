{
 "cells": [
  {
   "cell_type": "markdown",
   "metadata": {},
   "source": [
    "# GPT-4o Based Rehab Exercise Evaluation"
   ]
  },
  {
   "cell_type": "markdown",
   "metadata": {},
   "source": [
    "Based on https://github.com/openai/openai-cookbook/blob/main/examples/gpt4o/introduction_to_gpt4o.ipynb"
   ]
  },
  {
   "cell_type": "code",
   "execution_count": 1,
   "metadata": {},
   "outputs": [],
   "source": [
    "import os\n",
    "import re\n",
    "import numpy as np\n",
    "import pandas as pd\n",
    "import matplotlib.pyplot as plt\n",
    "from openai import OpenAI\n",
    "from constants import *\n",
    "from pathlib import Path\n",
    "\n",
    "import cv2\n",
    "import json\n",
    "import time\n",
    "import base64\n",
    "import pickle as pkl\n",
    "from tqdm import tqdm\n",
    "from glob import glob\n",
    "from IPython.display import Image, display, Markdown"
   ]
  },
  {
   "cell_type": "code",
   "execution_count": null,
   "metadata": {
    "vscode": {
     "languageId": "shellscript"
    }
   },
   "outputs": [],
   "source": [
    "!pip install --upgrade openai\n",
    "!pip install --upgrade ollama"
   ]
  },
  {
   "cell_type": "markdown",
   "metadata": {},
   "source": [
    "## Combine Tables to Obtain Trimmed Video Clips for each Repetition"
   ]
  },
  {
   "cell_type": "markdown",
   "metadata": {},
   "source": [
    "Organize File Directories"
   ]
  },
  {
   "cell_type": "code",
   "execution_count": 97,
   "metadata": {},
   "outputs": [],
   "source": [
    "vid2stamp = pd.read_csv('./kimore_annotations_all_exercises.csv')\n",
    "id2vid = pd.read_csv('./video_person_exercise_mapping.csv')"
   ]
  },
  {
   "cell_type": "code",
   "execution_count": 98,
   "metadata": {},
   "outputs": [
    {
     "data": {
      "text/html": [
       "<div>\n",
       "<style scoped>\n",
       "    .dataframe tbody tr th:only-of-type {\n",
       "        vertical-align: middle;\n",
       "    }\n",
       "\n",
       "    .dataframe tbody tr th {\n",
       "        vertical-align: top;\n",
       "    }\n",
       "\n",
       "    .dataframe thead th {\n",
       "        text-align: right;\n",
       "    }\n",
       "</style>\n",
       "<table border=\"1\" class=\"dataframe\">\n",
       "  <thead>\n",
       "    <tr style=\"text-align: right;\">\n",
       "      <th></th>\n",
       "      <th>PersonID</th>\n",
       "      <th>ExerciseNum</th>\n",
       "      <th>AnnotationVideoNum</th>\n",
       "    </tr>\n",
       "  </thead>\n",
       "  <tbody>\n",
       "    <tr>\n",
       "      <th>0</th>\n",
       "      <td>E_ID12</td>\n",
       "      <td>0</td>\n",
       "      <td>V1</td>\n",
       "    </tr>\n",
       "    <tr>\n",
       "      <th>1</th>\n",
       "      <td>P_ID11</td>\n",
       "      <td>0</td>\n",
       "      <td>V10</td>\n",
       "    </tr>\n",
       "    <tr>\n",
       "      <th>2</th>\n",
       "      <td>NE_ID19</td>\n",
       "      <td>0</td>\n",
       "      <td>V11</td>\n",
       "    </tr>\n",
       "    <tr>\n",
       "      <th>3</th>\n",
       "      <td>NE_ID14</td>\n",
       "      <td>0</td>\n",
       "      <td>V12</td>\n",
       "    </tr>\n",
       "    <tr>\n",
       "      <th>4</th>\n",
       "      <td>B_ID1</td>\n",
       "      <td>0</td>\n",
       "      <td>V13</td>\n",
       "    </tr>\n",
       "  </tbody>\n",
       "</table>\n",
       "</div>"
      ],
      "text/plain": [
       "  PersonID  ExerciseNum AnnotationVideoNum\n",
       "0   E_ID12            0                 V1\n",
       "1   P_ID11            0                V10\n",
       "2  NE_ID19            0                V11\n",
       "3  NE_ID14            0                V12\n",
       "4    B_ID1            0                V13"
      ]
     },
     "execution_count": 98,
     "metadata": {},
     "output_type": "execute_result"
    }
   ],
   "source": [
    "id2vid.head()"
   ]
  },
  {
   "cell_type": "code",
   "execution_count": 99,
   "metadata": {},
   "outputs": [
    {
     "data": {
      "text/html": [
       "<div>\n",
       "<style scoped>\n",
       "    .dataframe tbody tr th:only-of-type {\n",
       "        vertical-align: middle;\n",
       "    }\n",
       "\n",
       "    .dataframe tbody tr th {\n",
       "        vertical-align: top;\n",
       "    }\n",
       "\n",
       "    .dataframe thead th {\n",
       "        text-align: right;\n",
       "    }\n",
       "</style>\n",
       "<table border=\"1\" class=\"dataframe\">\n",
       "  <thead>\n",
       "    <tr style=\"text-align: right;\">\n",
       "      <th></th>\n",
       "      <th>Exercise</th>\n",
       "      <th>Video</th>\n",
       "      <th>Repetition</th>\n",
       "      <th>Start</th>\n",
       "      <th>End</th>\n",
       "      <th>Incomplete</th>\n",
       "    </tr>\n",
       "  </thead>\n",
       "  <tbody>\n",
       "    <tr>\n",
       "      <th>0</th>\n",
       "      <td>Exercise_0</td>\n",
       "      <td>V1</td>\n",
       "      <td>1</td>\n",
       "      <td>0:00:00.94</td>\n",
       "      <td>0:00:05.22</td>\n",
       "      <td>0</td>\n",
       "    </tr>\n",
       "    <tr>\n",
       "      <th>1</th>\n",
       "      <td>Exercise_0</td>\n",
       "      <td>V1</td>\n",
       "      <td>2</td>\n",
       "      <td>0:00:05.22</td>\n",
       "      <td>0:00:10.58</td>\n",
       "      <td>0</td>\n",
       "    </tr>\n",
       "    <tr>\n",
       "      <th>2</th>\n",
       "      <td>Exercise_0</td>\n",
       "      <td>V1</td>\n",
       "      <td>3</td>\n",
       "      <td>0:00:10.58</td>\n",
       "      <td>0:00:15.90</td>\n",
       "      <td>0</td>\n",
       "    </tr>\n",
       "    <tr>\n",
       "      <th>3</th>\n",
       "      <td>Exercise_0</td>\n",
       "      <td>V1</td>\n",
       "      <td>4</td>\n",
       "      <td>0:00:15.90</td>\n",
       "      <td>0:00:20.70</td>\n",
       "      <td>0</td>\n",
       "    </tr>\n",
       "    <tr>\n",
       "      <th>4</th>\n",
       "      <td>Exercise_0</td>\n",
       "      <td>V1</td>\n",
       "      <td>5</td>\n",
       "      <td>0:00:20.70</td>\n",
       "      <td>0:00:25.58</td>\n",
       "      <td>0</td>\n",
       "    </tr>\n",
       "  </tbody>\n",
       "</table>\n",
       "</div>"
      ],
      "text/plain": [
       "     Exercise Video  Repetition       Start         End  Incomplete\n",
       "0  Exercise_0    V1           1  0:00:00.94  0:00:05.22           0\n",
       "1  Exercise_0    V1           2  0:00:05.22  0:00:10.58           0\n",
       "2  Exercise_0    V1           3  0:00:10.58  0:00:15.90           0\n",
       "3  Exercise_0    V1           4  0:00:15.90  0:00:20.70           0\n",
       "4  Exercise_0    V1           5  0:00:20.70  0:00:25.58           0"
      ]
     },
     "execution_count": 99,
     "metadata": {},
     "output_type": "execute_result"
    }
   ],
   "source": [
    "vid2stamp.head()"
   ]
  },
  {
   "cell_type": "code",
   "execution_count": 100,
   "metadata": {},
   "outputs": [],
   "source": [
    "id2vid['exe_vid'] = id2vid['ExerciseNum'].astype(str) + id2vid['AnnotationVideoNum']\n",
    "vid2stamp['Exercise'] = vid2stamp['Exercise'].str.replace('Exercise_', '')\n",
    "vid2stamp['exe_vid'] = vid2stamp['Exercise'] + vid2stamp['Video']"
   ]
  },
  {
   "cell_type": "code",
   "execution_count": 101,
   "metadata": {},
   "outputs": [],
   "source": [
    "id2stamp = vid2stamp.join(id2vid.set_index('exe_vid'), on='exe_vid', how='left').drop(columns=['AnnotationVideoNum', 'Video', 'Incomplete', 'ExerciseNum', 'exe_vid'])"
   ]
  },
  {
   "cell_type": "code",
   "execution_count": 102,
   "metadata": {},
   "outputs": [],
   "source": [
    "id2stamp.to_csv('./id2stamp.csv', index=False)"
   ]
  },
  {
   "cell_type": "code",
   "execution_count": 103,
   "metadata": {},
   "outputs": [],
   "source": [
    "id2stamp = pd.read_csv('./id2stamp.csv')"
   ]
  },
  {
   "cell_type": "code",
   "execution_count": 104,
   "metadata": {},
   "outputs": [],
   "source": [
    "# Constructing a filename\n",
    "id2stamp['Exercise_1start'] = id2stamp['Exercise'].astype(int) +1\n",
    "id2stamp['person_ex'] = id2stamp['PersonID'].astype(str) + \"_Es\" + id2stamp['Exercise_1start'].astype(str) \n",
    "# id2stamp['fname'] = id2stamp['PersonID'].astype(str) + \"_Es\" + id2stamp['Exercise'].astype(str) + \"_\" + id2stamp['Repetition'].astype(str)"
   ]
  },
  {
   "cell_type": "code",
   "execution_count": 105,
   "metadata": {},
   "outputs": [
    {
     "data": {
      "text/html": [
       "<div>\n",
       "<style scoped>\n",
       "    .dataframe tbody tr th:only-of-type {\n",
       "        vertical-align: middle;\n",
       "    }\n",
       "\n",
       "    .dataframe tbody tr th {\n",
       "        vertical-align: top;\n",
       "    }\n",
       "\n",
       "    .dataframe thead th {\n",
       "        text-align: right;\n",
       "    }\n",
       "</style>\n",
       "<table border=\"1\" class=\"dataframe\">\n",
       "  <thead>\n",
       "    <tr style=\"text-align: right;\">\n",
       "      <th></th>\n",
       "      <th>Exercise</th>\n",
       "      <th>Repetition</th>\n",
       "      <th>Start</th>\n",
       "      <th>End</th>\n",
       "      <th>PersonID</th>\n",
       "      <th>Exercise_1start</th>\n",
       "      <th>person_ex</th>\n",
       "    </tr>\n",
       "  </thead>\n",
       "  <tbody>\n",
       "    <tr>\n",
       "      <th>0</th>\n",
       "      <td>0</td>\n",
       "      <td>1</td>\n",
       "      <td>0:00:00.94</td>\n",
       "      <td>0:00:05.22</td>\n",
       "      <td>E_ID12</td>\n",
       "      <td>1</td>\n",
       "      <td>E_ID12_Es1</td>\n",
       "    </tr>\n",
       "    <tr>\n",
       "      <th>1</th>\n",
       "      <td>0</td>\n",
       "      <td>2</td>\n",
       "      <td>0:00:05.22</td>\n",
       "      <td>0:00:10.58</td>\n",
       "      <td>E_ID12</td>\n",
       "      <td>1</td>\n",
       "      <td>E_ID12_Es1</td>\n",
       "    </tr>\n",
       "    <tr>\n",
       "      <th>2</th>\n",
       "      <td>0</td>\n",
       "      <td>3</td>\n",
       "      <td>0:00:10.58</td>\n",
       "      <td>0:00:15.90</td>\n",
       "      <td>E_ID12</td>\n",
       "      <td>1</td>\n",
       "      <td>E_ID12_Es1</td>\n",
       "    </tr>\n",
       "    <tr>\n",
       "      <th>3</th>\n",
       "      <td>0</td>\n",
       "      <td>4</td>\n",
       "      <td>0:00:15.90</td>\n",
       "      <td>0:00:20.70</td>\n",
       "      <td>E_ID12</td>\n",
       "      <td>1</td>\n",
       "      <td>E_ID12_Es1</td>\n",
       "    </tr>\n",
       "    <tr>\n",
       "      <th>4</th>\n",
       "      <td>0</td>\n",
       "      <td>5</td>\n",
       "      <td>0:00:20.70</td>\n",
       "      <td>0:00:25.58</td>\n",
       "      <td>E_ID12</td>\n",
       "      <td>1</td>\n",
       "      <td>E_ID12_Es1</td>\n",
       "    </tr>\n",
       "  </tbody>\n",
       "</table>\n",
       "</div>"
      ],
      "text/plain": [
       "   Exercise  Repetition       Start         End PersonID  Exercise_1start  \\\n",
       "0         0           1  0:00:00.94  0:00:05.22   E_ID12                1   \n",
       "1         0           2  0:00:05.22  0:00:10.58   E_ID12                1   \n",
       "2         0           3  0:00:10.58  0:00:15.90   E_ID12                1   \n",
       "3         0           4  0:00:15.90  0:00:20.70   E_ID12                1   \n",
       "4         0           5  0:00:20.70  0:00:25.58   E_ID12                1   \n",
       "\n",
       "    person_ex  \n",
       "0  E_ID12_Es1  \n",
       "1  E_ID12_Es1  \n",
       "2  E_ID12_Es1  \n",
       "3  E_ID12_Es1  \n",
       "4  E_ID12_Es1  "
      ]
     },
     "execution_count": 105,
     "metadata": {},
     "output_type": "execute_result"
    }
   ],
   "source": [
    "id2stamp.head()"
   ]
  },
  {
   "cell_type": "code",
   "execution_count": 106,
   "metadata": {},
   "outputs": [
    {
     "data": {
      "text/plain": [
       "0.94"
      ]
     },
     "execution_count": 106,
     "metadata": {},
     "output_type": "execute_result"
    }
   ],
   "source": [
    "float(id2stamp['Start'][0].replace('0:00:', ''))"
   ]
  },
  {
   "cell_type": "markdown",
   "metadata": {},
   "source": [
    "Video Processing Funcs"
   ]
  },
  {
   "cell_type": "code",
   "execution_count": 109,
   "metadata": {},
   "outputs": [],
   "source": [
    "def timestamp_to_seconds(timestamp):\n",
    "    hours, minutes, seconds = map(float, timestamp.split(':'))\n",
    "    total_seconds = hours*3600 + minutes * 60 + seconds\n",
    "    return float(total_seconds)\n",
    "\n",
    "def process_video(video_path, frames_to_skip=2):\n",
    "    \"\"\"Modified from https://github.com/openai/openai-cookbook/blob/main/examples/gpt4o/introduction_to_gpt4o.ipynb\"\"\"\n",
    "    frames, base64Frames, frame_nums = [], [], []\n",
    "    base_video_path, _ = os.path.splitext(video_path)\n",
    "\n",
    "    video = cv2.VideoCapture(video_path)\n",
    "    total_frames = int(video.get(cv2.CAP_PROP_FRAME_COUNT))\n",
    "    fps = video.get(cv2.CAP_PROP_FPS)\n",
    "    curr_frame=0\n",
    "\n",
    "    # Loop through the video and extract frames at specified sampling rate\n",
    "    while curr_frame < total_frames - 1:\n",
    "        video.set(cv2.CAP_PROP_POS_FRAMES, curr_frame)\n",
    "        success, frame = video.read()\n",
    "        \n",
    "        if not success:\n",
    "            break\n",
    "        # Resize frame to 224 pixels vertically\n",
    "        frame = cv2.resize(frame, (int(frame.shape[1] * (224 / frame.shape[0])), 224))\n",
    "        \n",
    "        # Crop the middle 224 pixels horizontally\n",
    "        start_x = int((frame.shape[1] - 224) / 2)\n",
    "        frame = frame[:, start_x:start_x + 224]\n",
    "    \n",
    "        _, buffer = cv2.imencode(\".jpg\", frame)\n",
    "        base64Frames.append(base64.b64encode(buffer).decode(\"utf-8\"))\n",
    "        frames.append(frame)\n",
    "        frame_nums.append(curr_frame)\n",
    "\n",
    "        curr_frame += frames_to_skip\n",
    "\n",
    "    return frames, base64Frames, frame_nums"
   ]
  },
  {
   "cell_type": "code",
   "execution_count": 323,
   "metadata": {},
   "outputs": [
    {
     "data": {
      "text/html": [
       "<div>\n",
       "<style scoped>\n",
       "    .dataframe tbody tr th:only-of-type {\n",
       "        vertical-align: middle;\n",
       "    }\n",
       "\n",
       "    .dataframe tbody tr th {\n",
       "        vertical-align: top;\n",
       "    }\n",
       "\n",
       "    .dataframe thead th {\n",
       "        text-align: right;\n",
       "    }\n",
       "</style>\n",
       "<table border=\"1\" class=\"dataframe\">\n",
       "  <thead>\n",
       "    <tr style=\"text-align: right;\">\n",
       "      <th></th>\n",
       "      <th>Exercise</th>\n",
       "      <th>Repetition</th>\n",
       "      <th>Start</th>\n",
       "      <th>End</th>\n",
       "      <th>PersonID</th>\n",
       "      <th>fname</th>\n",
       "      <th>person_ex</th>\n",
       "      <th>Repetition_1start</th>\n",
       "      <th>Exercise_1start</th>\n",
       "    </tr>\n",
       "  </thead>\n",
       "  <tbody>\n",
       "    <tr>\n",
       "      <th>497</th>\n",
       "      <td>1</td>\n",
       "      <td>1</td>\n",
       "      <td>0:00:01.14</td>\n",
       "      <td>0:00:05.56</td>\n",
       "      <td>E_ID6</td>\n",
       "      <td>E_ID6_Es1_1</td>\n",
       "      <td>E_ID6_Es2</td>\n",
       "      <td>2</td>\n",
       "      <td>2</td>\n",
       "    </tr>\n",
       "    <tr>\n",
       "      <th>498</th>\n",
       "      <td>1</td>\n",
       "      <td>2</td>\n",
       "      <td>0:00:05.56</td>\n",
       "      <td>0:00:09.18</td>\n",
       "      <td>E_ID6</td>\n",
       "      <td>E_ID6_Es1_2</td>\n",
       "      <td>E_ID6_Es2</td>\n",
       "      <td>3</td>\n",
       "      <td>2</td>\n",
       "    </tr>\n",
       "    <tr>\n",
       "      <th>499</th>\n",
       "      <td>1</td>\n",
       "      <td>3</td>\n",
       "      <td>0:00:09.18</td>\n",
       "      <td>0:00:12.85</td>\n",
       "      <td>E_ID6</td>\n",
       "      <td>E_ID6_Es1_3</td>\n",
       "      <td>E_ID6_Es2</td>\n",
       "      <td>4</td>\n",
       "      <td>2</td>\n",
       "    </tr>\n",
       "    <tr>\n",
       "      <th>500</th>\n",
       "      <td>1</td>\n",
       "      <td>4</td>\n",
       "      <td>0:00:12.85</td>\n",
       "      <td>0:00:16.64</td>\n",
       "      <td>E_ID6</td>\n",
       "      <td>E_ID6_Es1_4</td>\n",
       "      <td>E_ID6_Es2</td>\n",
       "      <td>5</td>\n",
       "      <td>2</td>\n",
       "    </tr>\n",
       "    <tr>\n",
       "      <th>501</th>\n",
       "      <td>1</td>\n",
       "      <td>5</td>\n",
       "      <td>0:00:16.64</td>\n",
       "      <td>0:00:20.31</td>\n",
       "      <td>E_ID6</td>\n",
       "      <td>E_ID6_Es1_5</td>\n",
       "      <td>E_ID6_Es2</td>\n",
       "      <td>6</td>\n",
       "      <td>2</td>\n",
       "    </tr>\n",
       "  </tbody>\n",
       "</table>\n",
       "</div>"
      ],
      "text/plain": [
       "    Exercise  Repetition       Start         End PersonID        fname  \\\n",
       "497        1           1  0:00:01.14  0:00:05.56    E_ID6  E_ID6_Es1_1   \n",
       "498        1           2  0:00:05.56  0:00:09.18    E_ID6  E_ID6_Es1_2   \n",
       "499        1           3  0:00:09.18  0:00:12.85    E_ID6  E_ID6_Es1_3   \n",
       "500        1           4  0:00:12.85  0:00:16.64    E_ID6  E_ID6_Es1_4   \n",
       "501        1           5  0:00:16.64  0:00:20.31    E_ID6  E_ID6_Es1_5   \n",
       "\n",
       "     person_ex  Repetition_1start  Exercise_1start  \n",
       "497  E_ID6_Es2                  2                2  \n",
       "498  E_ID6_Es2                  3                2  \n",
       "499  E_ID6_Es2                  4                2  \n",
       "500  E_ID6_Es2                  5                2  \n",
       "501  E_ID6_Es2                  6                2  "
      ]
     },
     "execution_count": 323,
     "metadata": {},
     "output_type": "execute_result"
    }
   ],
   "source": [
    "id2stamp[id2stamp['person_ex'] == 'E_ID6_Es2']"
   ]
  },
  {
   "cell_type": "code",
   "execution_count": null,
   "metadata": {},
   "outputs": [],
   "source": [
    "def threaded(fn):\n",
    "    def wrapper(*args, **kwargs):\n",
    "        thread = threading.Thread(target=fn, args=args, kwargs=kwargs)\n",
    "        thread.start()\n",
    "        return thread\n",
    "    return wrapper\n",
    "\n",
    "class MyClass:\n",
    "    somevar = 'someval'\n",
    "\n",
    "    @threaded\n",
    "    def func_to_be_threaded(self):\n",
    "        print 'xyz'"
   ]
  },
  {
   "cell_type": "code",
   "execution_count": 545,
   "metadata": {},
   "outputs": [],
   "source": [
    "def extract_video_from_df(vidfname, id2stamp):\n",
    "    fname = vidfname.split('/')[2] + \"_\" + vidfname.split('/')[3]\n",
    "\n",
    "    rows = id2stamp[id2stamp['person_ex'] == fname]\n",
    "\n",
    "    if rows.empty:\n",
    "        return\n",
    "\n",
    "    frames, base64_frames, frame_count = process_video(vidfname, frames_to_skip=2)\n",
    "\n",
    "    # for each row/repetition, extract and save the relevant frames\n",
    "    for _, rep_row in rows.iterrows():\n",
    "        t_start = timestamp_to_seconds(rep_row['Start'])\n",
    "        t_end = timestamp_to_seconds(rep_row['End'])\n",
    "        names = glob(f\"./store/{rep_row['PersonID']}_Es{int(rep_row['Exercise'])+1}_{int(rep_row['Repetition'])-1}_s=*\")\n",
    "                     \n",
    "        if not names:\n",
    "            # print(f\"./store/{rep_row['PersonID']}_Es{int(rep_row['Exercise'])+1}_{int(rep_row['Repetition'])-1}_s=*\")\n",
    "            continue\n",
    "        name = names[0]\n",
    "\n",
    "        base64_filename = f\"{name}/base64.txt\"\n",
    "        base64_framegroup = []\n",
    "\n",
    "        for idx, frame_num in enumerate(frame_count):\n",
    "            if frame_num >= 25*t_start and frame_num <= 25*t_end:\n",
    "                base64_framegroup.append(base64_frames[idx])\n",
    "\n",
    "        with open(base64_filename, \"w\") as f:\n",
    "            f.seek(0)\n",
    "            f.truncate()\n",
    "            for base64Frame in base64_framegroup:\n",
    "                f.write(base64Frame + \"\\n\")"
   ]
  },
  {
   "cell_type": "markdown",
   "metadata": {},
   "source": [
    "Video Extraction and saving to base64 strings"
   ]
  },
  {
   "cell_type": "code",
   "execution_count": 546,
   "metadata": {},
   "outputs": [
    {
     "name": "stderr",
     "output_type": "stream",
     "text": [
      "  0%|          | 0/353 [00:00<?, ?it/s]"
     ]
    },
    {
     "name": "stderr",
     "output_type": "stream",
     "text": [
      "100%|██████████| 353/353 [1:18:58<00:00, 13.42s/it]\n"
     ]
    }
   ],
   "source": [
    "vidfnames = glob(f\"./rgb/*_ID*/Es*/rgb/*.mp4\")\n",
    "\n",
    "# for each video, get the corresponding rows in id2stamp\n",
    "for idx, vidfname in enumerate(tqdm(vidfnames)):\n",
    "    extract_video_from_df(vidfname, id2stamp)"
   ]
  },
  {
   "cell_type": "code",
   "execution_count": null,
   "metadata": {},
   "outputs": [],
   "source": [
    "# This is used for extracting the frames based on the folds - Deprecated\n",
    "\n",
    "for fold in range(0, 10):\n",
    "    with open(f\"./LMSO_10/skelton_3D_LMSO_{fold}.pkl\", \"rb\") as f:\n",
    "        object = pkl.load(f)\n",
    "\n",
    "    for idx, val in enumerate(tqdm(list(object.values())[1])):\n",
    "        score = str(int(val['label'][0]))\n",
    "\n",
    "        name = f\"{val['frame_dir']}_s={score}\"\n",
    "        if not os.path.isdir(f'./store/{name}'):\n",
    "            os.mkdir(f'./store/{name}')\n",
    "        rep_row = id2stamp[id2stamp['fname'] == val['frame_dir']]\n",
    "\n",
    "        if rep_row.empty:\n",
    "            continue\n",
    "\n",
    "        rep_row = rep_row.iloc[0]\n",
    "\n",
    "        person_id = rep_row['PersonID']\n",
    "        exe_id = int(rep_row['Exercise'])\n",
    "\n",
    "        # get the video file\n",
    "        vidfnames = glob(f\"./rgb/{person_id}/Es{exe_id+1}/rgb/*.mp4\")\n",
    "        if not vidfnames:\n",
    "            print(\"Empty video dir\")\n",
    "            continue"
   ]
  },
  {
   "cell_type": "markdown",
   "metadata": {},
   "source": [
    "Import base64 video Ground Truths "
   ]
  },
  {
   "cell_type": "code",
   "execution_count": 2,
   "metadata": {},
   "outputs": [],
   "source": [
    "exercise_num = [1, 2, 3, 4, 5]\n",
    "score_num = [0, 1, 2, 3]"
   ]
  },
  {
   "cell_type": "code",
   "execution_count": 10,
   "metadata": {},
   "outputs": [],
   "source": [
    "# build Label dict containing gound truths\n",
    "dir_labels_gt = {}\n",
    "exe_labels_gt = {}\n",
    "\n",
    "for exe in exercise_num:\n",
    "    dir_labels_gt[exe] = {}\n",
    "    exe_labels_gt[exe] = {}\n",
    "    for score in score_num:\n",
    "        dirs = glob(f\"./store/*E_ID*_Es{exe}_*_s={score}\")\n",
    "        if dirs:\n",
    "            for dir in dirs:\n",
    "                # Find the first dir that has a base64.txt file\n",
    "                if os.path.isfile(f\"{dir}/base64.txt\"):\n",
    "                    with open(f\"{dir}/base64.txt\", \"r\") as f:\n",
    "                        b64_frames = f.readlines()\n",
    "                        if len(b64_frames) == 0:\n",
    "                            continue\n",
    "                        img_indices = np.linspace(2, len(b64_frames)-2, 5, dtype=int).tolist()\n",
    "                        exe_labels_gt[exe][score] = [b64_frames[idx] for idx in img_indices]\n",
    "                        dir_labels_gt[exe][score] = dir\n",
    "                    break\n",
    "        else: # need to re-search ground truth in something that is not Expert/NonExpert\n",
    "            dirs = glob(f\"./store/*_ID*_Es{exe}_*_s={score}\")\n",
    "            for dir in dirs:\n",
    "                # Find the first dir that has a base64.txt file\n",
    "                if os.path.isfile(f\"{dir}/base64.txt\"):\n",
    "                    with open(f\"{dir}/base64.txt\", \"r\") as f:\n",
    "                        b64_frames = f.readlines()\n",
    "                        if len(b64_frames) == 0:\n",
    "                            continue\n",
    "                        img_indices = np.linspace(2, len(b64_frames)-2, 5, dtype=int).tolist()\n",
    "                        exe_labels_gt[exe][score] = [b64_frames[idx] for idx in img_indices]\n",
    "                        dir_labels_gt[exe][score] = dir\n",
    "                    break\n",
    "b64_frames = None"
   ]
  },
  {
   "cell_type": "code",
   "execution_count": 572,
   "metadata": {},
   "outputs": [],
   "source": [
    "# Create an empty DataFrame\n",
    "all_reps_df = pd.DataFrame(columns=['pid', 'exe_num', 'score', 'dir'])\n",
    "\n",
    "# Iterate over the dir_labels_gt dictionary\n",
    "for exe_num in range(1,6):\n",
    "    for score_num in range(0,4):\n",
    "        file_paths = glob(f'./store/*_Es{exe_num}_*_s={score_num}/base64.txt')\n",
    "        # print(f'./store/*_Es{exe_num}_*_s={score_num}/base64.txt', len(file_paths))\n",
    "        # Get the patient ID and score number from the directory path\n",
    "        for file_path in file_paths:\n",
    "            fname = file_path.split('/')[-2]\n",
    "            pid = fname.split('_')[0] + '_' + fname.split('_')[1]\n",
    "            # Append the data to the DataFrame\n",
    "            all_reps_df = all_reps_df.append(\n",
    "                {'pid': pid, 'exe_num': int(exe_num), 'score': int(score_num),\n",
    "                            'dir': file_path,},\n",
    "                ignore_index=True\n",
    "            )\n"
   ]
  },
  {
   "cell_type": "code",
   "execution_count": 41,
   "metadata": {},
   "outputs": [],
   "source": [
    "# all_reps_df.to_csv('./all_reps_df.csv', index=False)\n",
    "all_reps_df = pd.read_csv('./all_reps_df_w_q.csv')"
   ]
  },
  {
   "cell_type": "markdown",
   "metadata": {},
   "source": [
    "## OAI and Ollama Inference Funcs"
   ]
  },
  {
   "cell_type": "markdown",
   "metadata": {},
   "source": [
    "Initialize OAI Client"
   ]
  },
  {
   "cell_type": "code",
   "execution_count": 425,
   "metadata": {},
   "outputs": [
    {
     "name": "stdout",
     "output_type": "stream",
     "text": [
      "ChatCompletion(id='chatcmpl-9Y0I7Pc009ttMv6CUpfxKfLUrT9Iy', choices=[Choice(finish_reason='stop', index=0, logprobs=None, message=ChatCompletionMessage(content='# Video Summary\\n\\n## Title\\n**\"The Secret Behind a Successful Morning Routine\"**\\n\\n## Presenter\\n*Ella Smith*\\n\\n## Duration\\n*10:15 minutes*\\n\\n## Content Overview\\n\\n### Introduction (0:00 - 1:00)\\n- Ella Smith welcomes viewers and introduces the topic of optimizing morning routines for a successful day.\\n- Brief mention of the benefits of having a structured morning routine.\\n\\n### The Importance of a Morning Routine (1:01 - 2:30)\\n- Explanation of how a consistent morning routine can improve productivity, mental health, and overall well-being.\\n- Mention of scientific studies supporting the importance of starting the day with intention.\\n\\n### Key Components of a Successful Morning Routine (2:31 - 7:30)\\n1. **Wake Up Early** (2:31 - 3:30)\\n   - Importance of waking up at the same time every day.\\n   - Tips for adjusting to an earlier wake-up time.\\n   \\n2. **Hydrate and Nourish** (3:31 - 4:30)\\n   - Starting the day with a glass of water and a healthy breakfast.\\n   - Suggestions for quick and nutritious breakfast options.\\n   \\n3. **Physical Activity** (4:31 - 5:45)\\n   - Incorporating exercise into the morning routine.\\n   - Benefits of morning workouts and examples of simple exercises.\\n\\n4. **Mindfulness and Meditation** (5:46 - 6:45)\\n   - Taking time for meditation, deep breathing, or journaling.\\n   - How mindfulness can set a positive tone for the day.\\n\\n5. **Plan and Prioritize** (6:46 - 7:30)\\n   - Setting daily goals and prioritizing tasks.\\n   - Using planners or digital tools for organization.\\n\\n### Real-Life Examples (7:31 - 9:00)\\n- Stories and testimonials from individuals who have successfully implemented these strategies.\\n- Diverse examples to show the flexibility of morning routines.\\n\\n### Conclusion and Tips (9:01 - 10:15)\\n- Recap of the key points discussed in the video.\\n- Final tips for personalizing your morning routine and maintaining consistency.\\n- Encouragement to take small steps and be patient with the process.\\n\\n---\\n\\n## Closing\\n- Ella thanks viewers for watching and encourages them to share their own morning routines in the comments.\\n- Info on where to find more content and connect on social media.\\n- Reminder to like, subscribe, and hit the notification bell for future updates.\\n\\n---\\n\\n### [Watch the Video Here](#)', role='assistant', function_call=None, tool_calls=None))], created=1717891299, model='gpt-4o-2024-05-13', object='chat.completion', system_fingerprint='fp_319be4768e', usage=CompletionUsage(completion_tokens=514, prompt_tokens=24, total_tokens=538))\n"
     ]
    }
   ],
   "source": [
    "import openai\n",
    "\n",
    "openai.api_key = oai_key\n",
    "openai.default_headers = {\"OpenAI-Beta\": \"assistants=v2\"}\n",
    "\n",
    "response = openai.chat.completions.create(\n",
    "    model=\"gpt-4o\",\n",
    "    messages=[\n",
    "    {\"role\": \"system\", \"content\": \"You are generating a video summary. What is in this video? Respond in Markdown.\"},\n",
    "    ]\n",
    ")\n",
    "\n",
    "print(response)"
   ]
  },
  {
   "cell_type": "code",
   "execution_count": 3,
   "metadata": {},
   "outputs": [],
   "source": [
    "def clean_json_string(json_string):\n",
    "    pattern = r'^```json\\s*(.*?)\\s*```$'\n",
    "    cleaned_string = re.sub(pattern, r'\\1', json_string, flags=re.DOTALL)\n",
    "    return cleaned_string.strip()"
   ]
  },
  {
   "cell_type": "markdown",
   "metadata": {},
   "source": [
    "### OAI Inference Funcs and Defs"
   ]
  },
  {
   "cell_type": "code",
   "execution_count": 4,
   "metadata": {},
   "outputs": [],
   "source": [
    "MODEL=\"gpt-4o\"\n",
    "client = OpenAI(api_key=oai_key)"
   ]
  },
  {
   "cell_type": "code",
   "execution_count": 447,
   "metadata": {},
   "outputs": [],
   "source": [
    "# get the exercise description\n",
    "struc_desc_by_exe = {}\n",
    "for exe_num in exercise_num:\n",
    "    with open(f\"./struc_data/exec_descs/exec_{exe_num}_desc_nat.md\") as f:\n",
    "        exec_desc = f.read()\n",
    "        struc_desc_by_exe[exe_num] = exec_desc\n",
    "\n",
    "# get background description, user intro, answer format, and system intro\n",
    "intro_sys, intro_user, background_text, struc_desc_text, rep_eval, ans_format = None, None, None, None, None, None\n",
    "with open(\"./struc_data/background_desc/intro_system_video.md\") as f:\n",
    "\tintro_sys = f.read()\n",
    "with open(\"./struc_data/background_desc/intro_user_video.md\") as f:\n",
    "\tintro_user = f.read()\n",
    "with open(\"./struc_data/background_desc/backgrounds_videos.md\") as f:\n",
    "\tbackground_text = f.read()\n",
    "with open(\"./struc_data/task_descs/rep_eval.md\") as f:\n",
    "\trep_eval = f.read()\n",
    "with open(\"./struc_data/ans_format/ans_format.json\") as f:\n",
    "\tans_format = json.dumps(json.load(f))\n",
    "\n",
    "rep_eval_10q, assess_q, ans_format_0s = None, None, None\n",
    "with open(\"./struc_data/background_desc/backgrounds_10q_0s.md\") as f:\n",
    "\tbackground_10q_0s = f.read()\n",
    "with open(\"./struc_data/task_descs/rep_eval_10q.md\") as f:\n",
    "\trep_eval_10q = f.read()\n",
    "with open(\"./struc_data/que_format/assess_q.json\") as f:\n",
    "\tassess_q = json.dumps(json.load(f))\n",
    "with open(\"./struc_data/ans_format/ans_format_0s.json\") as f:\n",
    "\tans_format_0s = json.dumps(json.load(f))"
   ]
  },
  {
   "cell_type": "code",
   "execution_count": 99,
   "metadata": {},
   "outputs": [],
   "source": [
    "def get_gt_b64_from_exe_n_dict(exe_n_labels_gt, detail=\"low\"):\n",
    "    \"\"\"wrap Ground truth in base64\"\"\"\n",
    "    gt_exe_b64 = []\n",
    "\n",
    "    for score in range(0,4):\n",
    "        gt_exe_b64.append({\"type\": \"text\", \"text\":\n",
    "            f\"BEGINS 5 frames containing the ground truth for this exercise marked with score {score}\"})\n",
    "        seq = map(lambda x: {\"type\": \"image_url\",\n",
    "                            \"image_url\": {\"url\": f'data:image/jpg;base64,{x}', \"detail\": detail}}, exe_n_labels_gt[score])\n",
    "        gt_exe_b64.extend([*seq])\n",
    "    gt_exe_b64.append({\"type\": \"text\", \"text\": f\"ENDS ground truth sequence\"})\n",
    "    return gt_exe_b64\n",
    "\n",
    "gt_exe_b64 = get_gt_b64_from_exe_n_dict(exe_labels_gt[2], detail=\"low\")"
   ]
  },
  {
   "cell_type": "code",
   "execution_count": 246,
   "metadata": {},
   "outputs": [],
   "source": [
    "def get_eval_b64_from_dir(dir_path, detail=\"low\", num_frames=5):\n",
    "    \"\"\"Obtaining the evaluation sequence and assemble the b64 array\"\"\"\n",
    "    base64_frames = None\n",
    "    with open(dir_path) as f:\n",
    "        base64_frames = f.readlines()\n",
    "        if len(base64_frames) == 0:\n",
    "            return -1\n",
    "        img_indices = np.linspace(1, len(base64_frames)-1, num_frames, dtype=int).tolist()\n",
    "        eval_label = [base64_frames[idx] for idx in img_indices]\n",
    "\n",
    "    eval_b64 = []\n",
    "    eval_b64.append({\"type\": \"text\", \"text\":\n",
    "        f\"BEGINS with 5 frames containing the evaluation label for this exercise.\"})\n",
    "    seq_e = map(lambda x: {\"type\": \"image_url\",\n",
    "                        \"image_url\": {\"url\": f'data:image/jpg;base64,{x}', \"detail\": detail}}, eval_label)\n",
    "    eval_b64.extend([*seq_e])\n",
    "    eval_b64.append({\"type\": \"text\", \"text\": f\"ENDS with evaluation sequence\"})\n",
    "    return eval_b64\n",
    "\n",
    "# Obtain one evaluation dataset\n",
    "# eval_dir = all_reps_df[(all_reps_df['score'] == 3) & (all_reps_df['exe_num'] == 2)]['dir'].iloc[0]\n",
    "eval_b64 = get_eval_b64_from_dir('./store/NE_ID19_Es2_2_s=3/base64.txt')"
   ]
  },
  {
   "cell_type": "code",
   "execution_count": 767,
   "metadata": {},
   "outputs": [
    {
     "name": "stdout",
     "output_type": "stream",
     "text": [
      "{'reasoning': 'The evaluated sequence shows the subject maintaining proper posture, extension angles, and distances similar to the ground truth sequence with score 3, but with slight deviations in trunk tilt angles.', 'score': 2}\n"
     ]
    }
   ],
   "source": [
    "def eval_with_oai(intro_sys, intro_user, background_text, struc_desc_text,\n",
    "                  rep_eval, gt_exe_b64, eval_b64, ans_format,\n",
    "                max_tokens=100):\n",
    "    \"\"\"Inference Function\"\"\"\n",
    "    response = client.chat.completions.create(\n",
    "        model=MODEL,\n",
    "        messages=[\n",
    "            {\"role\": \"system\", \"content\": intro_sys},\n",
    "            {\"role\": \"user\", \"content\": intro_user},\n",
    "            {\"role\": \"assistant\", \"content\": \"Of course! Please assign me with a task.\"},\n",
    "            {\"role\": \"user\", \"content\": rep_eval},\n",
    "            {\"role\": \"assistant\", \"content\": \"May I have some background information on the image sequences?\"},\n",
    "            {\"role\": \"user\", \"content\": background_text},\n",
    "            {\"role\": \"assistant\", \"content\": \"Alright. To start off, please provide me with the exercise description.\"},\n",
    "            {\"role\": \"user\", \"content\": struc_desc_text},\n",
    "            {\"role\": \"assistant\", \"content\": \"Next, please provide me with the ground truth sequences.\"},\n",
    "            {\"role\": \"user\", \"content\": gt_exe_b64},\n",
    "            {\"role\": \"assistant\", \"content\": \"Please provide the sequence you wish to evaluate so I can assign a score.\"},\n",
    "            {\"role\": \"user\", \"content\": eval_b64},\n",
    "            {\"role\": \"assistant\", \"content\": \"Lastly, please provide the answer sheet.\"},\n",
    "            {\"role\": \"user\", \"content\": ans_format},\n",
    "        ],\n",
    "        temperature=.5,\n",
    "        max_tokens=max_tokens,\n",
    "        # stream=True,\n",
    "    )\n",
    "    return response\n",
    "\n",
    "response = eval_with_oai(intro_sys, intro_user, background_text, struc_desc_by_exe[2],\n",
    "                         rep_eval, gt_exe_b64, eval_b64, ans_format)\n",
    "print(json.loads(clean_json_string(response.choices[0].message.content)))\n",
    "# for chunk in response:\n",
    "#   print(chunk.choices[0].delta.content, end='', flush=True)"
   ]
  },
  {
   "cell_type": "code",
   "execution_count": 55,
   "metadata": {},
   "outputs": [],
   "source": [
    "def eval_with_oai_10q(intro_sys, intro_user, background_text, struc_desc_text,\n",
    "                  rep_eval_10q, assess_q, eval_b64, ans_format_0s,\n",
    "                max_tokens=200):\n",
    "    \"\"\"Inference Function\"\"\"\n",
    "    response = client.chat.completions.create(\n",
    "        model=MODEL,\n",
    "        messages=[\n",
    "            {\"role\": \"system\", \"content\": intro_sys},\n",
    "            {\"role\": \"user\", \"content\": intro_user},\n",
    "            {\"role\": \"assistant\", \"content\": \"Of course! Please assign me with a task.\"},\n",
    "            {\"role\": \"user\", \"content\": rep_eval_10q},\n",
    "            {\"role\": \"assistant\", \"content\": \"May I have some background information on the image sequences?\"},\n",
    "            {\"role\": \"user\", \"content\": background_text},\n",
    "            {\"role\": \"assistant\", \"content\": \"Alright. To start off, please provide me with the exercise description.\"},\n",
    "            {\"role\": \"user\", \"content\": struc_desc_text},\n",
    "\n",
    "            {\"role\": \"assistant\", \"content\": \"Next, please provide me with the QS questionnares.\"},\n",
    "            {\"role\": \"user\", \"content\": assess_q},\n",
    "\n",
    "            {\"role\": \"assistant\", \"content\": \"Please provide the sequence you wish to evaluate so I can assign a score.\"},\n",
    "            {\"role\": \"user\", \"content\": eval_b64},\n",
    "            {\"role\": \"assistant\", \"content\": \"Lastly, please provide the answer sheet.\"},\n",
    "            {\"role\": \"user\", \"content\": ans_format_0s},\n",
    "            {\"role\": \"user\", \"content\": \"Remember to provide answer in a single JSON object only\"},\n",
    "        ],\n",
    "        temperature=.5,\n",
    "        max_tokens=max_tokens,\n",
    "        # stream=True,\n",
    "    )\n",
    "    return response\n",
    "\n",
    "response = eval_with_oai_10q(intro_sys, intro_user, background_text, struc_desc_by_exe[2],\n",
    "                         rep_eval_10q, assess_q, eval_b64, ans_format_0s)\n",
    "print(json.loads(clean_json_string(response.choices[0].message.content)))\n",
    "# for chunk in response:\n",
    "#   print(chunk.choices[0].delta.content, end='', flush=True)"
   ]
  },
  {
   "cell_type": "markdown",
   "metadata": {},
   "source": [
    "### Ollama Inference Funcs and Defs"
   ]
  },
  {
   "cell_type": "code",
   "execution_count": 697,
   "metadata": {},
   "outputs": [],
   "source": [
    "from ollama import Client\n",
    "client_ollama = Client(host='http://localhost:11434')"
   ]
  },
  {
   "cell_type": "code",
   "execution_count": 754,
   "metadata": {},
   "outputs": [],
   "source": [
    "def get_gt_b64_from_exe_n_dict_ollama(exe_n_labels_gt):\n",
    "    \"\"\"wrap Ground truth in base64\"\"\"\n",
    "    \n",
    "    gt_exe_txt, gt_exe_b64 = [], []\n",
    "\n",
    "    for score in range(0,4):\n",
    "        gt_exe_txt.append(f\"Here are 5 frames containing the ground truth for this exercise marked with score {score}\")\n",
    "        a = [str(frame) for frame in exe_n_labels_gt[score]]\n",
    "        gt_exe_b64.append(a)\n",
    "\n",
    "    return (gt_exe_txt, gt_exe_b64)\n",
    "\n",
    "gt_exe_txt_b64 = get_gt_b64_from_exe_n_dict_ollama(exe_labels_gt[2])"
   ]
  },
  {
   "cell_type": "code",
   "execution_count": 762,
   "metadata": {},
   "outputs": [],
   "source": [
    "def get_eval_b64_from_dir_ollama(dir_path):\n",
    "    \"\"\"Obtaining the evaluation sequence and assemble the b64 array\"\"\"\n",
    "    base64_frames = None\n",
    "    with open(dir_path) as f:\n",
    "        base64_frames = f.readlines()\n",
    "        if len(base64_frames) == 0:\n",
    "            return -1\n",
    "        img_indices = np.linspace(1, len(base64_frames)-1, 5, dtype=int).tolist()\n",
    "        eval_label = [base64_frames[idx] for idx in img_indices]\n",
    "\n",
    "    eval_txt = f\"Here are with 5 frames containing the evaluation label for this exercise.\"\n",
    "    return (eval_txt, eval_label)\n",
    "\n",
    "# Obtain one evaluation dataset\n",
    "eval_dir = all_reps_df[(all_reps_df['score'] == 3) & (all_reps_df['exe_num'] == 2)]['dir'].iloc[0]\n",
    "eval_txt_b64 = get_eval_b64_from_dir_ollama('./store/NE_ID19_Es2_2_s=3/base64.txt')"
   ]
  },
  {
   "cell_type": "code",
   "execution_count": null,
   "metadata": {},
   "outputs": [],
   "source": [
    "def eval_with_ollama(intro_sys, intro_user, background_text, struc_desc_text,\n",
    "                  rep_eval, gt_txt_b64, eval_txt_b64, ans_format,\n",
    "                model_name=\"llava:34b\"):\n",
    "    \"\"\"Inference Function\"\"\"\n",
    "\n",
    "    gt_txt, gt_b64 = gt_txt_b64\n",
    "    eval_txt, eval_b64 = eval_txt_b64\n",
    "\n",
    "    response = client_ollama.chat(\n",
    "        model=model_name,\n",
    "        messages=[\n",
    "            {\"role\": \"system\", \"content\": intro_sys},\n",
    "            {\"role\": \"user\", \"content\": intro_user},\n",
    "            {\"role\": \"assistant\", \"content\": \"Of course! Please assign me with a task.\"},\n",
    "            {\"role\": \"user\", \"content\": rep_eval},\n",
    "            {\"role\": \"assistant\", \"content\": \"May I have some background information on the image sequences?\"},\n",
    "            {\"role\": \"user\", \"content\": background_text},\n",
    "            {\"role\": \"assistant\", \"content\": \"Alright. To start off, please provide me with the exercise description.\"},\n",
    "            {\"role\": \"user\", \"content\": struc_desc_text},\n",
    "\n",
    "            {\"role\": \"assistant\", \"content\": \"Next, please provide me with the ground truth sequences.\"},\n",
    "            {\"role\": \"user\", \"content\": gt_txt[0], \"images\": gt_b64[0]},\n",
    "            {\"role\": \"user\", \"content\": gt_txt[1], \"images\": gt_b64[1]},\n",
    "            {\"role\": \"user\", \"content\": gt_txt[2], \"images\": gt_b64[2]},\n",
    "            {\"role\": \"user\", \"content\": gt_txt[3], \"images\": gt_b64[3]},\n",
    "\n",
    "            {\"role\": \"assistant\", \"content\": \"Please provide the sequence you wish to evaluate so I can assign a score.\"},\n",
    "            {\"role\": \"user\", \"content\": eval_txt, \"images\": eval_b64},\n",
    "\n",
    "            {\"role\": \"assistant\", \"content\": \"Lastly, please provide the answer sheet.\"},\n",
    "            {\"role\": \"user\", \"content\": ans_format},\n",
    "        ],\n",
    "        # stream=True,\n",
    "        keep_alive=True\n",
    "    )\n",
    "\n",
    "    return response\n",
    "\n",
    "response = eval_with_ollama(intro_sys, intro_user, background_text, struc_desc_by_exe[2],\n",
    "                         rep_eval, gt_exe_txt_b64, eval_txt_b64, ans_format)\n",
    "print(json.loads(clean_json_string(response.message.content)))\n",
    "# for chunk in response:\n",
    "#   print(chunk.choices[0].delta.content, end='', flush=True)"
   ]
  },
  {
   "cell_type": "code",
   "execution_count": 750,
   "metadata": {},
   "outputs": [
    {
     "data": {
      "text/plain": [
       "{'model': 'llava:34b',\n",
       " 'created_at': '2024-06-14T03:26:19.028584296Z',\n",
       " 'message': {'role': 'assistant',\n",
       "  'content': 'Sure! Here\\'s the JSON object for the given exercise description and sequence:\\n```json\\n{\\n  \"exercise_7\": {\\n    \"name\": \"Lateral tilt of the trunk with the arms in extension\",\\n    \"description\": [\\n      \"The subject has to raise his/her arms above the head with the elbows completely extended and holding a bar with both hands (starting position).\",\\n      \"The subject then has to tilt the trunk slowly first to the left and then to the right, keeping it exactly on the frontal plane.\",\\n      \"After each tilt, the subject returns to the starting position.\"\\n    ],\\n    \"requirements\": [\\n      \"The movement must be performed so as to avoid bending the trunk backwards or forwards. The feet must always be on the ground, slightly apart, with the knees slightly flexed.\"\\n    ],\\n    \"maximize\": [\\n      \"Maximize the Left and Right angles between imaginary lines formed between hip and shoulder of both sides and the vertical axis in the frontal plane.\"\\n    ],\\n    \"maintain\": [\\n      \"Equal and Constant Extension angles of both elbows\",\\n      \"Equal and Constant Extension angles of both knees\",\\n      \"Constant distance between hand tips\",\\n      \"Constant distance between shoulders\"\\n    ],\\n    \"ground_truth\": [\\n      // sequence for 0 score\\n    ],\\n    \"evaluation_.\\n```'},\n",
       " 'done': True,\n",
       " 'total_duration': 38457516221,\n",
       " 'load_duration': 3646515,\n",
       " 'prompt_eval_count': 1241,\n",
       " 'prompt_eval_duration': 6837766000,\n",
       " 'eval_count': 322,\n",
       " 'eval_duration': 31207204000}"
      ]
     },
     "execution_count": 750,
     "metadata": {},
     "output_type": "execute_result"
    }
   ],
   "source": [
    "response"
   ]
  },
  {
   "cell_type": "markdown",
   "metadata": {},
   "source": [
    "### Preparation for Batch Inference: Data Table Creation"
   ]
  },
  {
   "cell_type": "code",
   "execution_count": null,
   "metadata": {},
   "outputs": [],
   "source": [
    "# Create a smaller eval set of 100 samples, add columns for inference score and reasoning\n",
    "reps_df_100 = pd.DataFrame(columns=['pid', 'exe_num', 'score_gt', 'dir', 'score_q_total', 'score_q_po', 'score_q_cf',\n",
    "                                     'score_inf_total', 'score_inf_po', 'score_inf_cf','inf_reasoning'])\n",
    "\n",
    "for exe_num in exercise_num:\n",
    "    for sc_num in score_num:\n",
    "        df_row = all_reps_df[(all_reps_df['score'] == sc_num) & (all_reps_df['exe_num'] == exe_num)]\n",
    "        df_row.rename(columns={'score': 'score_gt'}, inplace=True)\n",
    "        reps_df_100 = pd.concat([reps_df_100, df_row.iloc[::df_row.shape[0]//5][:5]], ignore_index=True)"
   ]
  },
  {
   "cell_type": "code",
   "execution_count": 19,
   "metadata": {},
   "outputs": [],
   "source": [
    "# reps_df_100.to_csv('./reps_df_100.csv', index=False)\n",
    "reps_df_100 = pd.read_csv('./reps_df_100.csv')"
   ]
  },
  {
   "cell_type": "code",
   "execution_count": 20,
   "metadata": {},
   "outputs": [
    {
     "data": {
      "text/html": [
       "<div>\n",
       "<style scoped>\n",
       "    .dataframe tbody tr th:only-of-type {\n",
       "        vertical-align: middle;\n",
       "    }\n",
       "\n",
       "    .dataframe tbody tr th {\n",
       "        vertical-align: top;\n",
       "    }\n",
       "\n",
       "    .dataframe thead th {\n",
       "        text-align: right;\n",
       "    }\n",
       "</style>\n",
       "<table border=\"1\" class=\"dataframe\">\n",
       "  <thead>\n",
       "    <tr style=\"text-align: right;\">\n",
       "      <th></th>\n",
       "      <th>pid</th>\n",
       "      <th>exe_num</th>\n",
       "      <th>score_gt</th>\n",
       "      <th>dir</th>\n",
       "      <th>score_q_total</th>\n",
       "      <th>score_q_po</th>\n",
       "      <th>score_q_cf</th>\n",
       "      <th>score_inf_total</th>\n",
       "      <th>score_inf_po</th>\n",
       "      <th>score_inf_cf</th>\n",
       "      <th>inf_reasoning</th>\n",
       "    </tr>\n",
       "  </thead>\n",
       "  <tbody>\n",
       "    <tr>\n",
       "      <th>0</th>\n",
       "      <td>B_ID3</td>\n",
       "      <td>1</td>\n",
       "      <td>0</td>\n",
       "      <td>./store/B_ID3_Es1_0_s=0/base64.txt</td>\n",
       "      <td>28.210081</td>\n",
       "      <td>9.394392</td>\n",
       "      <td>18.815689</td>\n",
       "      <td>NaN</td>\n",
       "      <td>NaN</td>\n",
       "      <td>NaN</td>\n",
       "      <td>NaN</td>\n",
       "    </tr>\n",
       "    <tr>\n",
       "      <th>1</th>\n",
       "      <td>S_ID9</td>\n",
       "      <td>1</td>\n",
       "      <td>0</td>\n",
       "      <td>./store/S_ID9_Es1_2_s=0/base64.txt</td>\n",
       "      <td>26.333333</td>\n",
       "      <td>6.333333</td>\n",
       "      <td>20.000000</td>\n",
       "      <td>NaN</td>\n",
       "      <td>NaN</td>\n",
       "      <td>NaN</td>\n",
       "      <td>NaN</td>\n",
       "    </tr>\n",
       "    <tr>\n",
       "      <th>2</th>\n",
       "      <td>P_ID15</td>\n",
       "      <td>1</td>\n",
       "      <td>0</td>\n",
       "      <td>./store/P_ID15_Es1_2_s=0/base64.txt</td>\n",
       "      <td>27.666667</td>\n",
       "      <td>9.000000</td>\n",
       "      <td>18.666667</td>\n",
       "      <td>NaN</td>\n",
       "      <td>NaN</td>\n",
       "      <td>NaN</td>\n",
       "      <td>NaN</td>\n",
       "    </tr>\n",
       "    <tr>\n",
       "      <th>3</th>\n",
       "      <td>S_ID9</td>\n",
       "      <td>1</td>\n",
       "      <td>0</td>\n",
       "      <td>./store/S_ID9_Es1_3_s=0/base64.txt</td>\n",
       "      <td>26.333333</td>\n",
       "      <td>6.333333</td>\n",
       "      <td>20.000000</td>\n",
       "      <td>NaN</td>\n",
       "      <td>NaN</td>\n",
       "      <td>NaN</td>\n",
       "      <td>NaN</td>\n",
       "    </tr>\n",
       "    <tr>\n",
       "      <th>4</th>\n",
       "      <td>S_ID4</td>\n",
       "      <td>1</td>\n",
       "      <td>0</td>\n",
       "      <td>./store/S_ID4_Es1_2_s=0/base64.txt</td>\n",
       "      <td>26.000000</td>\n",
       "      <td>6.000000</td>\n",
       "      <td>20.000000</td>\n",
       "      <td>NaN</td>\n",
       "      <td>NaN</td>\n",
       "      <td>NaN</td>\n",
       "      <td>NaN</td>\n",
       "    </tr>\n",
       "    <tr>\n",
       "      <th>...</th>\n",
       "      <td>...</td>\n",
       "      <td>...</td>\n",
       "      <td>...</td>\n",
       "      <td>...</td>\n",
       "      <td>...</td>\n",
       "      <td>...</td>\n",
       "      <td>...</td>\n",
       "      <td>...</td>\n",
       "      <td>...</td>\n",
       "      <td>...</td>\n",
       "      <td>...</td>\n",
       "    </tr>\n",
       "    <tr>\n",
       "      <th>95</th>\n",
       "      <td>NE_ID15</td>\n",
       "      <td>5</td>\n",
       "      <td>3</td>\n",
       "      <td>./store/NE_ID15_Es5_1_s=3/base64.txt</td>\n",
       "      <td>50.000000</td>\n",
       "      <td>15.000000</td>\n",
       "      <td>35.000000</td>\n",
       "      <td>NaN</td>\n",
       "      <td>NaN</td>\n",
       "      <td>NaN</td>\n",
       "      <td>NaN</td>\n",
       "    </tr>\n",
       "    <tr>\n",
       "      <th>96</th>\n",
       "      <td>NE_ID26</td>\n",
       "      <td>5</td>\n",
       "      <td>3</td>\n",
       "      <td>./store/NE_ID26_Es5_2_s=3/base64.txt</td>\n",
       "      <td>50.000000</td>\n",
       "      <td>15.000000</td>\n",
       "      <td>35.000000</td>\n",
       "      <td>NaN</td>\n",
       "      <td>NaN</td>\n",
       "      <td>NaN</td>\n",
       "      <td>NaN</td>\n",
       "    </tr>\n",
       "    <tr>\n",
       "      <th>97</th>\n",
       "      <td>NE_ID19</td>\n",
       "      <td>5</td>\n",
       "      <td>3</td>\n",
       "      <td>./store/NE_ID19_Es5_2_s=3/base64.txt</td>\n",
       "      <td>50.000000</td>\n",
       "      <td>15.000000</td>\n",
       "      <td>35.000000</td>\n",
       "      <td>NaN</td>\n",
       "      <td>NaN</td>\n",
       "      <td>NaN</td>\n",
       "      <td>NaN</td>\n",
       "    </tr>\n",
       "    <tr>\n",
       "      <th>98</th>\n",
       "      <td>E_ID5</td>\n",
       "      <td>5</td>\n",
       "      <td>3</td>\n",
       "      <td>./store/E_ID5_Es5_0_s=3/base64.txt</td>\n",
       "      <td>47.666667</td>\n",
       "      <td>15.000000</td>\n",
       "      <td>32.666667</td>\n",
       "      <td>NaN</td>\n",
       "      <td>NaN</td>\n",
       "      <td>NaN</td>\n",
       "      <td>NaN</td>\n",
       "    </tr>\n",
       "    <tr>\n",
       "      <th>99</th>\n",
       "      <td>E_ID1</td>\n",
       "      <td>5</td>\n",
       "      <td>3</td>\n",
       "      <td>./store/E_ID1_Es5_0_s=3/base64.txt</td>\n",
       "      <td>48.333333</td>\n",
       "      <td>15.000000</td>\n",
       "      <td>33.333333</td>\n",
       "      <td>NaN</td>\n",
       "      <td>NaN</td>\n",
       "      <td>NaN</td>\n",
       "      <td>NaN</td>\n",
       "    </tr>\n",
       "  </tbody>\n",
       "</table>\n",
       "<p>100 rows × 11 columns</p>\n",
       "</div>"
      ],
      "text/plain": [
       "        pid  exe_num  score_gt                                   dir  \\\n",
       "0     B_ID3        1         0    ./store/B_ID3_Es1_0_s=0/base64.txt   \n",
       "1     S_ID9        1         0    ./store/S_ID9_Es1_2_s=0/base64.txt   \n",
       "2    P_ID15        1         0   ./store/P_ID15_Es1_2_s=0/base64.txt   \n",
       "3     S_ID9        1         0    ./store/S_ID9_Es1_3_s=0/base64.txt   \n",
       "4     S_ID4        1         0    ./store/S_ID4_Es1_2_s=0/base64.txt   \n",
       "..      ...      ...       ...                                   ...   \n",
       "95  NE_ID15        5         3  ./store/NE_ID15_Es5_1_s=3/base64.txt   \n",
       "96  NE_ID26        5         3  ./store/NE_ID26_Es5_2_s=3/base64.txt   \n",
       "97  NE_ID19        5         3  ./store/NE_ID19_Es5_2_s=3/base64.txt   \n",
       "98    E_ID5        5         3    ./store/E_ID5_Es5_0_s=3/base64.txt   \n",
       "99    E_ID1        5         3    ./store/E_ID1_Es5_0_s=3/base64.txt   \n",
       "\n",
       "    score_q_total  score_q_po  score_q_cf  score_inf_total  score_inf_po  \\\n",
       "0       28.210081    9.394392   18.815689              NaN           NaN   \n",
       "1       26.333333    6.333333   20.000000              NaN           NaN   \n",
       "2       27.666667    9.000000   18.666667              NaN           NaN   \n",
       "3       26.333333    6.333333   20.000000              NaN           NaN   \n",
       "4       26.000000    6.000000   20.000000              NaN           NaN   \n",
       "..            ...         ...         ...              ...           ...   \n",
       "95      50.000000   15.000000   35.000000              NaN           NaN   \n",
       "96      50.000000   15.000000   35.000000              NaN           NaN   \n",
       "97      50.000000   15.000000   35.000000              NaN           NaN   \n",
       "98      47.666667   15.000000   32.666667              NaN           NaN   \n",
       "99      48.333333   15.000000   33.333333              NaN           NaN   \n",
       "\n",
       "    score_inf_cf  inf_reasoning  \n",
       "0            NaN            NaN  \n",
       "1            NaN            NaN  \n",
       "2            NaN            NaN  \n",
       "3            NaN            NaN  \n",
       "4            NaN            NaN  \n",
       "..           ...            ...  \n",
       "95           NaN            NaN  \n",
       "96           NaN            NaN  \n",
       "97           NaN            NaN  \n",
       "98           NaN            NaN  \n",
       "99           NaN            NaN  \n",
       "\n",
       "[100 rows x 11 columns]"
      ]
     },
     "execution_count": 20,
     "metadata": {},
     "output_type": "execute_result"
    }
   ],
   "source": [
    "reps_df_100"
   ]
  },
  {
   "cell_type": "code",
   "execution_count": 15,
   "metadata": {},
   "outputs": [
    {
     "data": {
      "text/plain": [
       "{1: {0: './store/B_ID3_Es1_0_s=0',\n",
       "  1: './store/NE_ID10_Es1_1_s=1',\n",
       "  2: './store/NE_ID5_Es1_5_s=2',\n",
       "  3: './store/NE_ID27_Es1_2_s=3'},\n",
       " 2: {0: './store/NE_ID5_Es2_0_s=0',\n",
       "  1: './store/NE_ID2_Es2_0_s=1',\n",
       "  2: './store/E_ID10_Es2_3_s=2',\n",
       "  3: './store/E_ID1_Es2_1_s=3'},\n",
       " 3: {0: './store/P_ID10_Es3_4_s=0',\n",
       "  1: './store/NE_ID8_Es3_1_s=1',\n",
       "  2: './store/NE_ID7_Es3_0_s=2',\n",
       "  3: './store/NE_ID23_Es3_2_s=3'},\n",
       " 4: {0: './store/NE_ID6_Es4_4_s=0',\n",
       "  1: './store/E_ID3_Es4_2_s=1',\n",
       "  2: './store/E_ID16_Es4_7_s=2',\n",
       "  3: './store/NE_ID21_Es4_6_s=3'},\n",
       " 5: {0: './store/NE_ID5_Es5_0_s=0',\n",
       "  1: './store/NE_ID9_Es5_0_s=1',\n",
       "  2: './store/E_ID12_Es5_2_s=2',\n",
       "  3: './store/NE_ID15_Es5_1_s=3'}}"
      ]
     },
     "execution_count": 15,
     "metadata": {},
     "output_type": "execute_result"
    }
   ],
   "source": [
    "dir_labels_gt"
   ]
  },
  {
   "cell_type": "code",
   "execution_count": 253,
   "metadata": {},
   "outputs": [
    {
     "data": {
      "image/jpeg": "[encoded data removed]",
      "text/plain": [
       "<IPython.core.display.Image object>"
      ]
     },
     "metadata": {
      "image/jpeg": {
       "width": 200
      }
     },
     "output_type": "display_data"
    },
    {
     "data": {
      "image/jpeg": "[encoded data removed]",
      "text/plain": [
       "<IPython.core.display.Image object>"
      ]
     },
     "metadata": {
      "image/jpeg": {
       "width": 200
      }
     },
     "output_type": "display_data"
    },
    {
     "data": {
      "image/jpeg": "[encoded data removed]",
      "text/plain": [
       "<IPython.core.display.Image object>"
      ]
     },
     "metadata": {
      "image/jpeg": {
       "width": 200
      }
     },
     "output_type": "display_data"
    },
    {
     "data": {
      "image/jpeg": "[encoded data removed]",
      "text/plain": [
       "<IPython.core.display.Image object>"
      ]
     },
     "metadata": {
      "image/jpeg": {
       "width": 200
      }
     },
     "output_type": "display_data"
    },
    {
     "data": {
      "image/jpeg": "[encoded data removed]",
      "text/plain": [
       "<IPython.core.display.Image object>"
      ]
     },
     "metadata": {
      "image/jpeg": {
       "width": 200
      }
     },
     "output_type": "display_data"
    }
   ],
   "source": [
    "# print(dir_labels_gt[1][2])\n",
    "def visualize_b64_from_dir(dir_path, num_frames=5):\n",
    "    with open(dir_path) as f:\n",
    "        base64_frames = f.readlines()\n",
    "        if len(base64_frames) == 0:\n",
    "            return -1\n",
    "        # eval_label = base64_frames[::len(base64_frames)//4]\n",
    "        img_indices = np.linspace(2, len(base64_frames)-2, num_frames, dtype=int).tolist()\n",
    "        eval_label = [base64_frames[idx] for idx in img_indices]\n",
    "\n",
    "    for img in eval_label:\n",
    "        \n",
    "        display(Image(data=base64.b64decode(img.encode(\"utf-8\")), width=200))\n",
    "\n",
    "visualize_b64_from_dir(dir_labels_gt[3][1] + \"/base64.txt\")"
   ]
  },
  {
   "cell_type": "code",
   "execution_count": 481,
   "metadata": {},
   "outputs": [
    {
     "name": "stdout",
     "output_type": "stream",
     "text": [
      "./store/P_ID15_Es1_2_s=0/base64.txt 27.666666666666668 9.0 18.666666666666668\n"
     ]
    },
    {
     "data": {
      "image/jpeg": "[encoded data removed]",
      "text/plain": [
       "<IPython.core.display.Image object>"
      ]
     },
     "metadata": {
      "image/jpeg": {
       "width": 200
      }
     },
     "output_type": "display_data"
    },
    {
     "data": {
      "image/jpeg": "[encoded data removed]",
      "text/plain": [
       "<IPython.core.display.Image object>"
      ]
     },
     "metadata": {
      "image/jpeg": {
       "width": 200
      }
     },
     "output_type": "display_data"
    },
    {
     "data": {
      "image/jpeg": "[encoded data removed]",
      "text/plain": [
       "<IPython.core.display.Image object>"
      ]
     },
     "metadata": {
      "image/jpeg": {
       "width": 200
      }
     },
     "output_type": "display_data"
    },
    {
     "data": {
      "image/jpeg": "[encoded data removed]",
      "text/plain": [
       "<IPython.core.display.Image object>"
      ]
     },
     "metadata": {
      "image/jpeg": {
       "width": 200
      }
     },
     "output_type": "display_data"
    },
    {
     "data": {
      "image/jpeg": "[encoded data removed]",
      "text/plain": [
       "<IPython.core.display.Image object>"
      ]
     },
     "metadata": {
      "image/jpeg": {
       "width": 200
      }
     },
     "output_type": "display_data"
    },
    {
     "data": {
      "image/jpeg": "[encoded data removed]",
      "text/plain": [
       "<IPython.core.display.Image object>"
      ]
     },
     "metadata": {
      "image/jpeg": {
       "width": 200
      }
     },
     "output_type": "display_data"
    },
    {
     "data": {
      "image/jpeg": "[encoded data removed]",
      "text/plain": [
       "<IPython.core.display.Image object>"
      ]
     },
     "metadata": {
      "image/jpeg": {
       "width": 200
      }
     },
     "output_type": "display_data"
    },
    {
     "data": {
      "image/jpeg": "[encoded data removed]",
      "text/plain": [
       "<IPython.core.display.Image object>"
      ]
     },
     "metadata": {
      "image/jpeg": {
       "width": 200
      }
     },
     "output_type": "display_data"
    },
    {
     "data": {
      "image/jpeg": "[encoded data removed]",
      "text/plain": [
       "<IPython.core.display.Image object>"
      ]
     },
     "metadata": {
      "image/jpeg": {
       "width": 200
      }
     },
     "output_type": "display_data"
    },
    {
     "data": {
      "image/jpeg": "[encoded data removed]",
      "text/plain": [
       "<IPython.core.display.Image object>"
      ]
     },
     "metadata": {
      "image/jpeg": {
       "width": 200
      }
     },
     "output_type": "display_data"
    }
   ],
   "source": [
    "row = reps_df_100[(reps_df_100['score_gt'] == 0) & (reps_df_100['exe_num'] == 1)].iloc[2]\n",
    "print(row['dir'], row['score_q_total'], row['score_q_po'], row['score_q_cf'])\n",
    "visualize_b64_from_dir(row['dir'], num_frames=10)"
   ]
  },
  {
   "cell_type": "markdown",
   "metadata": {},
   "source": [
    "Testing Inference pipeline"
   ]
  },
  {
   "cell_type": "code",
   "execution_count": 482,
   "metadata": {},
   "outputs": [],
   "source": [
    "eval_b64 = get_eval_b64_from_dir(row['dir'], detail=\"high\", num_frames=5)\n",
    "if eval_b64 == -1:\n",
    "    print(\"Empty evaluation label\")\n",
    "else:\n",
    "    # gt_exe_b64 = get_gt_b64_from_exe_n_dict(exe_labels_gt[1], detail=\"low\")\n",
    "    exec_desc = struc_desc_by_exe[1]\n",
    "    response = eval_with_oai_10q(intro_sys, intro_user, background_10q_0s, exec_desc,\n",
    "                         rep_eval_10q, assess_q, eval_b64, ans_format_0s, max_tokens=300)\n",
    "    # inf_score = json.loads(clean_json_string(response.choices[0].message.content))['score']\n",
    "    # inf_reasoning = json.loads(clean_json_string(response.choices[0].message.content))['reasoning']\n",
    "\n",
    "    # print(inf_score, inf_reasoning)"
   ]
  },
  {
   "cell_type": "code",
   "execution_count": 484,
   "metadata": {},
   "outputs": [
    {
     "name": "stdout",
     "output_type": "stream",
     "text": [
      "12 28 40\n"
     ]
    }
   ],
   "source": [
    "ctt = json.loads(clean_json_string(response.choices[0].message.content))\n",
    "po_score = np.sum(list(ctt['answers'].values())[:3])\n",
    "cf_score = np.sum(list(ctt['answers'].values())[3:])\n",
    "print(po_score, cf_score, po_score + cf_score)"
   ]
  },
  {
   "cell_type": "code",
   "execution_count": 485,
   "metadata": {},
   "outputs": [
    {
     "data": {
      "text/plain": [
       "{'answers': {'1': 4,\n",
       "  '2': 4,\n",
       "  '3': 4,\n",
       "  '4': 4,\n",
       "  '5': 4,\n",
       "  '6': 4,\n",
       "  '7': 4,\n",
       "  '8': 4,\n",
       "  '9': 4,\n",
       "  '10': 4},\n",
       " 'reasoning': {'1': 'The subject achieved the primary outcomes in most frames.',\n",
       "  '2': 'The exercise was carried out in a constant manner in most frames.',\n",
       "  '3': 'The amplitude of the movement was complete in most frames.',\n",
       "  '4': 'The posture of the head was correct in most frames.',\n",
       "  '5': 'The posture of the right arm was correct in most frames.',\n",
       "  '6': 'The posture of the left arm was correct in most frames.',\n",
       "  '7': 'The posture of the trunk was correct in most frames.',\n",
       "  '8': 'The posture of the pelvis was correct in most frames.',\n",
       "  '9': 'The posture of the right leg was correct in most frames.',\n",
       "  '10': 'The posture of the left leg was correct in most frames.'}}"
      ]
     },
     "execution_count": 485,
     "metadata": {},
     "output_type": "execute_result"
    }
   ],
   "source": [
    "ctt"
   ]
  },
  {
   "cell_type": "markdown",
   "metadata": {},
   "source": [
    "## Batch Inference"
   ]
  },
  {
   "cell_type": "code",
   "execution_count": null,
   "metadata": {},
   "outputs": [],
   "source": [
    "# for each exercise and each score\n",
    "for exe_num in exercise_num:\n",
    "\n",
    "    # get the ground truth base64 and execise description\n",
    "    gt_exe = exe_labels_gt[exe_num]\n",
    "    exec_desc = struc_desc_by_exe[exe_num]\n",
    "\n",
    "    for sc_num in score_num:\n",
    "        exe_sc_rows = reps_df_100[(reps_df_100['score_gt'] == sc_num) & (reps_df_100['exe_num'] == exe_num)]\n",
    "\n",
    "        for idx, row in exe_sc_rows.iterrows(): # for 5 reps in each score and exercise\n",
    "            eval_b64 = get_eval_b64_from_dir(row['dir'], detail=\"high\")\n",
    "            if eval_b64 is None:\n",
    "                continue\n",
    "            # gt_exe_b64 = get_gt_b64_from_exe_n_dict(gt_exe,  detail=\"high\")\n",
    "            response = eval_with_oai_10q(intro_sys, intro_user, background_10q_0s, exec_desc,\n",
    "                                rep_eval_10q, assess_q, eval_b64, ans_format_0s, max_tokens=300)\n",
    "            \n",
    "            ctt = json.loads(clean_json_string(response.choices[0].message.content))\n",
    "            po_score = np.sum(list(ctt['answers'].values())[:3])\n",
    "            cf_score = np.sum(list(ctt['answers'].values())[3:])\n",
    "            inf_reasoning = ctt['reasoning']\n",
    "\n",
    "            reps_df_100.loc[idx, 'score_inf_total'] = po_score + cf_score\n",
    "            reps_df_100.loc[idx, 'score_inf_po'] = po_score\n",
    "            reps_df_100.loc[idx, 'score_inf_cf'] = cf_score\n",
    "            reps_df_100.loc[idx, 'inf_reasoning'] = inf_reasoning\n",
    "\n",
    "            print(reps_df_100.loc[idx])"
   ]
  },
  {
   "cell_type": "code",
   "execution_count": 81,
   "metadata": {},
   "outputs": [
    {
     "data": {
      "text/html": [
       "<div>\n",
       "<style scoped>\n",
       "    .dataframe tbody tr th:only-of-type {\n",
       "        vertical-align: middle;\n",
       "    }\n",
       "\n",
       "    .dataframe tbody tr th {\n",
       "        vertical-align: top;\n",
       "    }\n",
       "\n",
       "    .dataframe thead th {\n",
       "        text-align: right;\n",
       "    }\n",
       "</style>\n",
       "<table border=\"1\" class=\"dataframe\">\n",
       "  <thead>\n",
       "    <tr style=\"text-align: right;\">\n",
       "      <th></th>\n",
       "      <th>pid</th>\n",
       "      <th>exe_num</th>\n",
       "      <th>score_gt</th>\n",
       "      <th>dir</th>\n",
       "      <th>score_q_total</th>\n",
       "      <th>score_q_po</th>\n",
       "      <th>score_q_cf</th>\n",
       "      <th>score_inf_total</th>\n",
       "      <th>score_inf_po</th>\n",
       "      <th>score_inf_cf</th>\n",
       "      <th>inf_reasoning</th>\n",
       "    </tr>\n",
       "  </thead>\n",
       "  <tbody>\n",
       "    <tr>\n",
       "      <th>0</th>\n",
       "      <td>B_ID3</td>\n",
       "      <td>1</td>\n",
       "      <td>0</td>\n",
       "      <td>./store/B_ID3_Es1_0_s=0/base64.txt</td>\n",
       "      <td>28.210081</td>\n",
       "      <td>9.394392</td>\n",
       "      <td>18.815689</td>\n",
       "      <td>NaN</td>\n",
       "      <td>NaN</td>\n",
       "      <td>NaN</td>\n",
       "      <td>NaN</td>\n",
       "    </tr>\n",
       "    <tr>\n",
       "      <th>1</th>\n",
       "      <td>S_ID9</td>\n",
       "      <td>1</td>\n",
       "      <td>0</td>\n",
       "      <td>./store/S_ID9_Es1_2_s=0/base64.txt</td>\n",
       "      <td>26.333333</td>\n",
       "      <td>6.333333</td>\n",
       "      <td>20.000000</td>\n",
       "      <td>NaN</td>\n",
       "      <td>NaN</td>\n",
       "      <td>NaN</td>\n",
       "      <td>NaN</td>\n",
       "    </tr>\n",
       "    <tr>\n",
       "      <th>2</th>\n",
       "      <td>P_ID15</td>\n",
       "      <td>1</td>\n",
       "      <td>0</td>\n",
       "      <td>./store/P_ID15_Es1_2_s=0/base64.txt</td>\n",
       "      <td>27.666667</td>\n",
       "      <td>9.000000</td>\n",
       "      <td>18.666667</td>\n",
       "      <td>NaN</td>\n",
       "      <td>NaN</td>\n",
       "      <td>NaN</td>\n",
       "      <td>NaN</td>\n",
       "    </tr>\n",
       "    <tr>\n",
       "      <th>3</th>\n",
       "      <td>S_ID9</td>\n",
       "      <td>1</td>\n",
       "      <td>0</td>\n",
       "      <td>./store/S_ID9_Es1_3_s=0/base64.txt</td>\n",
       "      <td>26.333333</td>\n",
       "      <td>6.333333</td>\n",
       "      <td>20.000000</td>\n",
       "      <td>NaN</td>\n",
       "      <td>NaN</td>\n",
       "      <td>NaN</td>\n",
       "      <td>NaN</td>\n",
       "    </tr>\n",
       "    <tr>\n",
       "      <th>4</th>\n",
       "      <td>S_ID4</td>\n",
       "      <td>1</td>\n",
       "      <td>0</td>\n",
       "      <td>./store/S_ID4_Es1_2_s=0/base64.txt</td>\n",
       "      <td>26.000000</td>\n",
       "      <td>6.000000</td>\n",
       "      <td>20.000000</td>\n",
       "      <td>NaN</td>\n",
       "      <td>NaN</td>\n",
       "      <td>NaN</td>\n",
       "      <td>NaN</td>\n",
       "    </tr>\n",
       "    <tr>\n",
       "      <th>...</th>\n",
       "      <td>...</td>\n",
       "      <td>...</td>\n",
       "      <td>...</td>\n",
       "      <td>...</td>\n",
       "      <td>...</td>\n",
       "      <td>...</td>\n",
       "      <td>...</td>\n",
       "      <td>...</td>\n",
       "      <td>...</td>\n",
       "      <td>...</td>\n",
       "      <td>...</td>\n",
       "    </tr>\n",
       "    <tr>\n",
       "      <th>95</th>\n",
       "      <td>NE_ID15</td>\n",
       "      <td>5</td>\n",
       "      <td>3</td>\n",
       "      <td>./store/NE_ID15_Es5_1_s=3/base64.txt</td>\n",
       "      <td>50.000000</td>\n",
       "      <td>15.000000</td>\n",
       "      <td>35.000000</td>\n",
       "      <td>NaN</td>\n",
       "      <td>NaN</td>\n",
       "      <td>NaN</td>\n",
       "      <td>NaN</td>\n",
       "    </tr>\n",
       "    <tr>\n",
       "      <th>96</th>\n",
       "      <td>NE_ID26</td>\n",
       "      <td>5</td>\n",
       "      <td>3</td>\n",
       "      <td>./store/NE_ID26_Es5_2_s=3/base64.txt</td>\n",
       "      <td>50.000000</td>\n",
       "      <td>15.000000</td>\n",
       "      <td>35.000000</td>\n",
       "      <td>NaN</td>\n",
       "      <td>NaN</td>\n",
       "      <td>NaN</td>\n",
       "      <td>NaN</td>\n",
       "    </tr>\n",
       "    <tr>\n",
       "      <th>97</th>\n",
       "      <td>NE_ID19</td>\n",
       "      <td>5</td>\n",
       "      <td>3</td>\n",
       "      <td>./store/NE_ID19_Es5_2_s=3/base64.txt</td>\n",
       "      <td>50.000000</td>\n",
       "      <td>15.000000</td>\n",
       "      <td>35.000000</td>\n",
       "      <td>NaN</td>\n",
       "      <td>NaN</td>\n",
       "      <td>NaN</td>\n",
       "      <td>NaN</td>\n",
       "    </tr>\n",
       "    <tr>\n",
       "      <th>98</th>\n",
       "      <td>E_ID5</td>\n",
       "      <td>5</td>\n",
       "      <td>3</td>\n",
       "      <td>./store/E_ID5_Es5_0_s=3/base64.txt</td>\n",
       "      <td>47.666667</td>\n",
       "      <td>15.000000</td>\n",
       "      <td>32.666667</td>\n",
       "      <td>NaN</td>\n",
       "      <td>NaN</td>\n",
       "      <td>NaN</td>\n",
       "      <td>NaN</td>\n",
       "    </tr>\n",
       "    <tr>\n",
       "      <th>99</th>\n",
       "      <td>E_ID1</td>\n",
       "      <td>5</td>\n",
       "      <td>3</td>\n",
       "      <td>./store/E_ID1_Es5_0_s=3/base64.txt</td>\n",
       "      <td>48.333333</td>\n",
       "      <td>15.000000</td>\n",
       "      <td>33.333333</td>\n",
       "      <td>NaN</td>\n",
       "      <td>NaN</td>\n",
       "      <td>NaN</td>\n",
       "      <td>NaN</td>\n",
       "    </tr>\n",
       "  </tbody>\n",
       "</table>\n",
       "<p>100 rows × 11 columns</p>\n",
       "</div>"
      ],
      "text/plain": [
       "        pid  exe_num  score_gt                                   dir  \\\n",
       "0     B_ID3        1         0    ./store/B_ID3_Es1_0_s=0/base64.txt   \n",
       "1     S_ID9        1         0    ./store/S_ID9_Es1_2_s=0/base64.txt   \n",
       "2    P_ID15        1         0   ./store/P_ID15_Es1_2_s=0/base64.txt   \n",
       "3     S_ID9        1         0    ./store/S_ID9_Es1_3_s=0/base64.txt   \n",
       "4     S_ID4        1         0    ./store/S_ID4_Es1_2_s=0/base64.txt   \n",
       "..      ...      ...       ...                                   ...   \n",
       "95  NE_ID15        5         3  ./store/NE_ID15_Es5_1_s=3/base64.txt   \n",
       "96  NE_ID26        5         3  ./store/NE_ID26_Es5_2_s=3/base64.txt   \n",
       "97  NE_ID19        5         3  ./store/NE_ID19_Es5_2_s=3/base64.txt   \n",
       "98    E_ID5        5         3    ./store/E_ID5_Es5_0_s=3/base64.txt   \n",
       "99    E_ID1        5         3    ./store/E_ID1_Es5_0_s=3/base64.txt   \n",
       "\n",
       "    score_q_total  score_q_po  score_q_cf  score_inf_total  score_inf_po  \\\n",
       "0       28.210081    9.394392   18.815689              NaN           NaN   \n",
       "1       26.333333    6.333333   20.000000              NaN           NaN   \n",
       "2       27.666667    9.000000   18.666667              NaN           NaN   \n",
       "3       26.333333    6.333333   20.000000              NaN           NaN   \n",
       "4       26.000000    6.000000   20.000000              NaN           NaN   \n",
       "..            ...         ...         ...              ...           ...   \n",
       "95      50.000000   15.000000   35.000000              NaN           NaN   \n",
       "96      50.000000   15.000000   35.000000              NaN           NaN   \n",
       "97      50.000000   15.000000   35.000000              NaN           NaN   \n",
       "98      47.666667   15.000000   32.666667              NaN           NaN   \n",
       "99      48.333333   15.000000   33.333333              NaN           NaN   \n",
       "\n",
       "    score_inf_cf  inf_reasoning  \n",
       "0            NaN            NaN  \n",
       "1            NaN            NaN  \n",
       "2            NaN            NaN  \n",
       "3            NaN            NaN  \n",
       "4            NaN            NaN  \n",
       "..           ...            ...  \n",
       "95           NaN            NaN  \n",
       "96           NaN            NaN  \n",
       "97           NaN            NaN  \n",
       "98           NaN            NaN  \n",
       "99           NaN            NaN  \n",
       "\n",
       "[100 rows x 11 columns]"
      ]
     },
     "execution_count": 81,
     "metadata": {},
     "output_type": "execute_result"
    }
   ],
   "source": [
    "reps_df_100"
   ]
  },
  {
   "cell_type": "code",
   "execution_count": 775,
   "metadata": {},
   "outputs": [
    {
     "name": "stdout",
     "output_type": "stream",
     "text": [
      "pid                                                          B_ID7\n",
      "exe_num                                                          5\n",
      "score_gt                                                         2\n",
      "dir                             ./store/B_ID7_Es5_1_s=2/base64.txt\n",
      "score_inf                                                        2\n",
      "inf_reasoning    The evaluated sequence demonstrates a good adh...\n",
      "Name: 90, dtype: object\n",
      "pid                                                          E_ID4\n",
      "exe_num                                                          5\n",
      "score_gt                                                         2\n",
      "dir                             ./store/E_ID4_Es5_0_s=2/base64.txt\n",
      "score_inf                                                        3\n",
      "inf_reasoning    The evaluated sequence closely matches the gro...\n",
      "Name: 91, dtype: object\n",
      "pid                                                        NE_ID25\n",
      "exe_num                                                          5\n",
      "score_gt                                                         2\n",
      "dir                           ./store/NE_ID25_Es5_0_s=2/base64.txt\n",
      "score_inf                                                        3\n",
      "inf_reasoning    The evaluated sequence closely matches the gro...\n",
      "Name: 92, dtype: object\n",
      "pid                                                         E_ID16\n",
      "exe_num                                                          5\n",
      "score_gt                                                         2\n",
      "dir                            ./store/E_ID16_Es5_1_s=2/base64.txt\n",
      "score_inf                                                        2\n",
      "inf_reasoning    The evaluated sequence shows good adherence to...\n",
      "Name: 93, dtype: object\n",
      "pid                                                         E_ID12\n",
      "exe_num                                                          5\n",
      "score_gt                                                         2\n",
      "dir                            ./store/E_ID12_Es5_4_s=2/base64.txt\n",
      "score_inf                                                        2\n",
      "inf_reasoning    The evaluated sequence closely matches the gro...\n",
      "Name: 94, dtype: object\n",
      "pid                                                        NE_ID15\n",
      "exe_num                                                          5\n",
      "score_gt                                                         3\n",
      "dir                           ./store/NE_ID15_Es5_1_s=3/base64.txt\n",
      "score_inf                                                        3\n",
      "inf_reasoning    The evaluation sequence closely matches the gr...\n",
      "Name: 95, dtype: object\n",
      "pid                                                        NE_ID26\n",
      "exe_num                                                          5\n",
      "score_gt                                                         3\n",
      "dir                           ./store/NE_ID26_Es5_2_s=3/base64.txt\n",
      "score_inf                                                        3\n",
      "inf_reasoning    The evaluated sequence closely matches the gro...\n",
      "Name: 96, dtype: object\n",
      "pid                                                        NE_ID19\n",
      "exe_num                                                          5\n",
      "score_gt                                                         3\n",
      "dir                           ./store/NE_ID19_Es5_2_s=3/base64.txt\n",
      "score_inf                                                        2\n",
      "inf_reasoning    The evaluated sequence closely matches the gro...\n",
      "Name: 97, dtype: object\n",
      "pid                                                          E_ID5\n",
      "exe_num                                                          5\n",
      "score_gt                                                         3\n",
      "dir                             ./store/E_ID5_Es5_0_s=3/base64.txt\n",
      "score_inf                                                        2\n",
      "inf_reasoning    The subject's performance closely matches the ...\n",
      "Name: 98, dtype: object\n",
      "pid                                                          E_ID1\n",
      "exe_num                                                          5\n",
      "score_gt                                                         3\n",
      "dir                             ./store/E_ID1_Es5_0_s=3/base64.txt\n",
      "score_inf                                                        2\n",
      "inf_reasoning    The evaluated sequence closely matches the gro...\n",
      "Name: 99, dtype: object\n"
     ]
    }
   ],
   "source": [
    "# for each exercise and each score\n",
    "for exe_num in exercise_num:\n",
    "\n",
    "    # get the ground truth base64 and execise description\n",
    "    gt_exe = exe_labels_gt[exe_num]\n",
    "    exec_desc = struc_desc_by_exe[exe_num]\n",
    "\n",
    "    for sc_num in score_num:\n",
    "        exe_sc_rows = reps_df_100[(reps_df_100['score_gt'] == sc_num) & (reps_df_100['exe_num'] == exe_num)]\n",
    "\n",
    "        for idx, row in exe_sc_rows.iterrows(): # for 5 reps in each score and exercise\n",
    "            eval_b64 = get_eval_b64_from_dir(row['dir'], detail=\"low\")\n",
    "            if eval_b64 is None:\n",
    "                continue\n",
    "            gt_exe_b64 = get_gt_b64_from_exe_n_dict(gt_exe,  detail=\"low\")\n",
    "\n",
    "            response = eval_with_oai(intro_sys, intro_user, background_text, exec_desc,\n",
    "                                     rep_eval, gt_exe_b64, eval_b64, ans_format, max_tokens=60)\n",
    "            inf_score = json.loads(clean_json_string(response.choices[0].message.content))['score']\n",
    "            inf_reasoning = json.loads(clean_json_string(response.choices[0].message.content))['reasoning']\n",
    "\n",
    "            reps_df_100.loc[idx, 'score_inf'] = int(inf_score)\n",
    "            reps_df_100.loc[idx, 'inf_reasoning'] = inf_reasoning\n",
    "\n",
    "            print(reps_df_100.loc[idx])"
   ]
  },
  {
   "cell_type": "markdown",
   "metadata": {},
   "source": [
    "## Visualize Results"
   ]
  },
  {
   "cell_type": "code",
   "execution_count": 9,
   "metadata": {},
   "outputs": [],
   "source": [
    "# reps_df_100.to_csv(\"./reps_df_100.csv\", index=False)\n",
    "import pandas as pd\n",
    "reps_df_100 = pd.read_csv(\"./reps_df_100.csv\")"
   ]
  },
  {
   "cell_type": "code",
   "execution_count": 11,
   "metadata": {},
   "outputs": [],
   "source": [
    "gt_labels, inf_labels = reps_df_100['score_gt'].to_numpy().astype(np.uint8), reps_df_100['score_inf'].to_numpy().astype(np.uint8)"
   ]
  },
  {
   "cell_type": "code",
   "execution_count": 13,
   "metadata": {},
   "outputs": [
    {
     "data": {
      "text/plain": [
       "((100,), (100,))"
      ]
     },
     "execution_count": 13,
     "metadata": {},
     "output_type": "execute_result"
    }
   ],
   "source": [
    "inf_labels.shape, gt_labels.shape"
   ]
  },
  {
   "cell_type": "code",
   "execution_count": 23,
   "metadata": {},
   "outputs": [],
   "source": [
    "from sklearn.metrics import confusion_matrix\n",
    "\n",
    "cm = []\n",
    "# Create confusion matrix\n",
    "for i in range(1, 6):\n",
    "    cm.append(np.array(confusion_matrix(gt_labels[(i-1)*20:20*i], inf_labels[(i-1)*20:20*i])))"
   ]
  },
  {
   "cell_type": "code",
   "execution_count": null,
   "metadata": {},
   "outputs": [],
   "source": [
    "import numpy as np\n",
    "import itertools\n",
    "import matplotlib.pyplot as plt\n",
    "\n",
    "plt.clf()\n",
    "\n",
    "def plot_confusion_matrix(cm, title, classes):\n",
    "    plt.imshow(cm, interpolation='nearest', cmap=plt.cm.Blues)\n",
    "    plt.title(title)\n",
    "    plt.colorbar()\n",
    "    tick_marks = np.arange(len(classes))\n",
    "    plt.xticks(tick_marks, classes, rotation=45)\n",
    "    plt.yticks(tick_marks, classes)\n",
    "\n",
    "    fmt = '.2f'\n",
    "    thresh = cm.max() / 2.\n",
    "    for i, j in itertools.product(range(cm.shape[0]), range(cm.shape[1])):\n",
    "        plt.text(j, i, format(cm[i, j], fmt),\n",
    "                 horizontalalignment=\"center\",\n",
    "                 color=\"white\" if cm[i, j] > thresh else \"black\")\n",
    "\n",
    "    plt.ylabel('Ground Truth label')\n",
    "    plt.xlabel('Predicted label, GPT-4o, detail=\"low\"')\n",
    "    plt.tight_layout()\n",
    "\n",
    "\n",
    "confusion_matrix_tot = np.array(\n",
    "[[ 7,  7, 11,  0],\n",
    " [ 4, 11,  8,  2],\n",
    " [ 2,  2, 15,  6],\n",
    " [ 2,  0, 10, 13],])\n",
    "\n",
    "class_names = ['0=Bad', '1=Good', '2=Very Good', '3=Perfect']\n",
    "\n",
    "\n",
    "plt.figure(figsize=(12, 12))\n",
    "\n",
    "# Plotting the first subfigure\n",
    "plt.subplot(3, 2, 1)\n",
    "plot_confusion_matrix(cm[0], '1-Shot Confusion Matrix for Exercise 1, \\n No Questionnaire', class_names)\n",
    "# plt.tight_layout()\n",
    "\n",
    "# Plotting the second subfigure\n",
    "plt.subplot(3, 2, 2)\n",
    "plot_confusion_matrix(cm[1], '1-Shot Confusion Matrix for Exercise 2, \\n No Questionnaire', class_names)\n",
    "# plt.tight_layout()\n",
    "\n",
    "# Plotting the third subfigure\n",
    "plt.subplot(3, 2, 3)\n",
    "plot_confusion_matrix(cm[2], '1-Shot Confusion Matrix for Exercise 3, \\n No Questionnaire', class_names)\n",
    "# plt.tight_layout()\n",
    "\n",
    "# Plotting the fourth subfigure\n",
    "plt.subplot(3, 2, 4)\n",
    "plot_confusion_matrix(cm[3], '1-Shot Confusion Matrix for Exercise 4, \\n No Questionnaire', class_names)\n",
    "# plt.tight_layout()\n",
    "\n",
    "# Plotting the fourth subfigure\n",
    "plt.subplot(3, 2, 5)\n",
    "plot_confusion_matrix(cm[4], '1-Shot Confusion Matrix for Exercise 5, \\n No Questionnaire', class_names)\n",
    "\n",
    "plt.tight_layout()\n",
    "plt.savefig(\"confusion_matrix_5cls.png\")\n",
    "\n",
    "# Plotting the fourth subfigure\n",
    "plt.clf()\n",
    "plt.figure(figsize=(5,5))\n",
    "plot_confusion_matrix(confusion_matrix_tot, '1-Shot Confusion Matrix for \\n 5 Exercises Merged (100 samples), \\n No Questionnaire', class_names)\n",
    "\n",
    "plt.savefig(\"cm_total.png\")\n",
    "# plt.show()"
   ]
  },
  {
   "cell_type": "code",
   "execution_count": 270,
   "metadata": {},
   "outputs": [
    {
     "data": {
      "text/plain": [
       "CompletionUsage(completion_tokens=39, prompt_tokens=3319, total_tokens=3358)"
      ]
     },
     "execution_count": 270,
     "metadata": {},
     "output_type": "execute_result"
    }
   ],
   "source": [
    "response.usage"
   ]
  },
  {
   "cell_type": "markdown",
   "metadata": {},
   "source": [
    "## Stateful Queries with GPT-4o Assistant API"
   ]
  },
  {
   "cell_type": "code",
   "execution_count": null,
   "metadata": {},
   "outputs": [],
   "source": [
    "from openai import OpenAI\n",
    "client = OpenAI()\n",
    "  \n",
    "assistant = client.beta.assistants.create(\n",
    "  name=\"Math Tutor\",\n",
    "  instructions=\"You are a personal math tutor. Write and run code to answer math questions.\",\n",
    "  tools=[{\"type\": \"code_interpreter\"}],\n",
    "  model=\"gpt-4o\",\n",
    ")"
   ]
  },
  {
   "cell_type": "code",
   "execution_count": null,
   "metadata": {},
   "outputs": [],
   "source": [
    "thread = client.beta.threads.create()"
   ]
  },
  {
   "cell_type": "code",
   "execution_count": null,
   "metadata": {},
   "outputs": [],
   "source": [
    "message = client.beta.threads.messages.create(\n",
    "  thread_id=thread.id,\n",
    "  role=\"user\",\n",
    "  content=\"I need to solve the equation `3x + 11 = 14`. Can you help me?\"\n",
    ")"
   ]
  },
  {
   "cell_type": "code",
   "execution_count": null,
   "metadata": {},
   "outputs": [],
   "source": [
    "run = client.beta.threads.runs.create_and_poll(\n",
    "  thread_id=thread.id,\n",
    "  assistant_id=assistant.id,\n",
    "  instructions=\"Please address the user as Jane Doe. The user has a premium account.\"\n",
    ")"
   ]
  },
  {
   "cell_type": "code",
   "execution_count": null,
   "metadata": {},
   "outputs": [],
   "source": [
    "if run.status == 'completed': \n",
    "  messages = client.beta.threads.messages.list(\n",
    "    thread_id=thread.id\n",
    "  )\n",
    "  print(messages)\n",
    "else:\n",
    "  print(run.status)"
   ]
  }
 ],
 "metadata": {
  "kernelspec": {
   "display_name": "Python 3",
   "language": "python",
   "name": "python3"
  },
  "language_info": {
   "codemirror_mode": {
    "name": "ipython",
    "version": 3
   },
   "file_extension": ".py",
   "mimetype": "text/x-python",
   "name": "python",
   "nbconvert_exporter": "python",
   "pygments_lexer": "ipython3",
   "version": "3.10.12"
  }
 },
 "nbformat": 4,
 "nbformat_minor": 2
}
